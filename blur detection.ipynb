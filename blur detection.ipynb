{
 "cells": [
  {
   "cell_type": "code",
   "execution_count": 6,
   "metadata": {},
   "outputs": [
    {
     "name": "stdout",
     "output_type": "stream",
     "text": [
      "Requirement already satisfied: numpy in c:\\users\\muneeswari s\\anaconda\\lib\\site-packages (1.18.5)\n",
      "Requirement already satisfied: scikit-image in c:\\users\\muneeswari s\\anaconda\\lib\\site-packages (0.16.2)\n",
      "Requirement already satisfied: matplotlib!=3.0.0,>=2.0.0 in c:\\users\\muneeswari s\\anaconda\\lib\\site-packages (from scikit-image) (3.2.2)\n",
      "Requirement already satisfied: PyWavelets>=0.4.0 in c:\\users\\muneeswari s\\anaconda\\lib\\site-packages (from scikit-image) (1.1.1)\n",
      "Requirement already satisfied: scipy>=0.19.0 in c:\\users\\muneeswari s\\anaconda\\lib\\site-packages (from scikit-image) (1.4.1)\n",
      "Requirement already satisfied: networkx>=2.0 in c:\\users\\muneeswari s\\anaconda\\lib\\site-packages (from scikit-image) (2.4)\n",
      "Requirement already satisfied: imageio>=2.3.0 in c:\\users\\muneeswari s\\anaconda\\lib\\site-packages (from scikit-image) (2.9.0)\n",
      "Requirement already satisfied: pillow>=4.3.0 in c:\\users\\muneeswari s\\anaconda\\lib\\site-packages (from scikit-image) (7.0.0)\n",
      "Requirement already satisfied: pyparsing!=2.0.4,!=2.1.2,!=2.1.6,>=2.0.1 in c:\\users\\muneeswari s\\anaconda\\lib\\site-packages (from matplotlib!=3.0.0,>=2.0.0->scikit-image) (2.4.7)\n",
      "Requirement already satisfied: python-dateutil>=2.1 in c:\\users\\muneeswari s\\anaconda\\lib\\site-packages (from matplotlib!=3.0.0,>=2.0.0->scikit-image) (2.8.1)\n",
      "Requirement already satisfied: kiwisolver>=1.0.1 in c:\\users\\muneeswari s\\anaconda\\lib\\site-packages (from matplotlib!=3.0.0,>=2.0.0->scikit-image) (1.2.0)\n",
      "Requirement already satisfied: cycler>=0.10 in c:\\users\\muneeswari s\\anaconda\\lib\\site-packages (from matplotlib!=3.0.0,>=2.0.0->scikit-image) (0.10.0)\n",
      "Requirement already satisfied: decorator>=4.3.0 in c:\\users\\muneeswari s\\anaconda\\lib\\site-packages (from networkx>=2.0->scikit-image) (4.4.2)\n",
      "Requirement already satisfied: six>=1.5 in c:\\users\\muneeswari s\\anaconda\\lib\\site-packages (from python-dateutil>=2.1->matplotlib!=3.0.0,>=2.0.0->scikit-image) (1.15.0)\n"
     ]
    }
   ],
   "source": [
    "!pip install numpy scikit-image"
   ]
  },
  {
   "cell_type": "code",
   "execution_count": 11,
   "metadata": {},
   "outputs": [
    {
     "name": "stdout",
     "output_type": "stream",
     "text": [
      "Collecting tensorflow-object-detection-api\n",
      "  Downloading tensorflow_object_detection_api-0.1.1.tar.gz (577 kB)\n",
      "Requirement already satisfied: Pillow>=1.0 in c:\\users\\muneeswari s\\anaconda\\lib\\site-packages (from tensorflow-object-detection-api) (7.0.0)\n",
      "Requirement already satisfied: Matplotlib>=2.1 in c:\\users\\muneeswari s\\anaconda\\lib\\site-packages (from tensorflow-object-detection-api) (3.2.2)\n",
      "Requirement already satisfied: Cython>=0.28.1 in c:\\users\\muneeswari s\\anaconda\\lib\\site-packages (from tensorflow-object-detection-api) (0.29.20)\n",
      "Requirement already satisfied: Protobuf in c:\\users\\muneeswari s\\anaconda\\lib\\site-packages (from tensorflow-object-detection-api) (3.13.0)\n",
      "Requirement already satisfied: lxml in c:\\users\\muneeswari s\\anaconda\\lib\\site-packages (from tensorflow-object-detection-api) (4.5.1)\n",
      "Requirement already satisfied: jupyter in c:\\users\\muneeswari s\\anaconda\\lib\\site-packages (from tensorflow-object-detection-api) (1.0.0)\n",
      "Requirement already satisfied: tensorflow in c:\\users\\muneeswari s\\anaconda\\lib\\site-packages (from tensorflow-object-detection-api) (2.3.0)\n",
      "Requirement already satisfied: contextlib2 in c:\\users\\muneeswari s\\anaconda\\lib\\site-packages (from tensorflow-object-detection-api) (0.6.0.post1)\n",
      "Requirement already satisfied: wheel in c:\\users\\muneeswari s\\anaconda\\lib\\site-packages (from tensorflow-object-detection-api) (0.34.2)\n",
      "Collecting twine\n",
      "  Downloading twine-3.2.0-py3-none-any.whl (34 kB)\n",
      "Requirement already satisfied: kiwisolver>=1.0.1 in c:\\users\\muneeswari s\\anaconda\\lib\\site-packages (from Matplotlib>=2.1->tensorflow-object-detection-api) (1.2.0)\n",
      "Requirement already satisfied: cycler>=0.10 in c:\\users\\muneeswari s\\anaconda\\lib\\site-packages (from Matplotlib>=2.1->tensorflow-object-detection-api) (0.10.0)\n",
      "Requirement already satisfied: pyparsing!=2.0.4,!=2.1.2,!=2.1.6,>=2.0.1 in c:\\users\\muneeswari s\\anaconda\\lib\\site-packages (from Matplotlib>=2.1->tensorflow-object-detection-api) (2.4.7)\n",
      "Requirement already satisfied: python-dateutil>=2.1 in c:\\users\\muneeswari s\\anaconda\\lib\\site-packages (from Matplotlib>=2.1->tensorflow-object-detection-api) (2.8.1)\n",
      "Requirement already satisfied: numpy>=1.11 in c:\\users\\muneeswari s\\anaconda\\lib\\site-packages (from Matplotlib>=2.1->tensorflow-object-detection-api) (1.18.5)\n",
      "Requirement already satisfied: setuptools in c:\\users\\muneeswari s\\anaconda\\lib\\site-packages (from Protobuf->tensorflow-object-detection-api) (47.3.1.post20200622)\n",
      "Requirement already satisfied: six>=1.9 in c:\\users\\muneeswari s\\anaconda\\lib\\site-packages (from Protobuf->tensorflow-object-detection-api) (1.15.0)\n",
      "Requirement already satisfied: jupyter-console in c:\\users\\muneeswari s\\anaconda\\lib\\site-packages (from jupyter->tensorflow-object-detection-api) (6.1.0)\n",
      "Requirement already satisfied: ipykernel in c:\\users\\muneeswari s\\anaconda\\lib\\site-packages (from jupyter->tensorflow-object-detection-api) (5.3.0)\n",
      "Requirement already satisfied: ipywidgets in c:\\users\\muneeswari s\\anaconda\\lib\\site-packages (from jupyter->tensorflow-object-detection-api) (7.5.1)\n",
      "Requirement already satisfied: qtconsole in c:\\users\\muneeswari s\\anaconda\\lib\\site-packages (from jupyter->tensorflow-object-detection-api) (4.7.5)\n",
      "Requirement already satisfied: nbconvert in c:\\users\\muneeswari s\\anaconda\\lib\\site-packages (from jupyter->tensorflow-object-detection-api) (5.6.1)\n",
      "Requirement already satisfied: notebook in c:\\users\\muneeswari s\\anaconda\\lib\\site-packages (from jupyter->tensorflow-object-detection-api) (6.0.3)\n",
      "Requirement already satisfied: scipy==1.4.1 in c:\\users\\muneeswari s\\anaconda\\lib\\site-packages (from tensorflow->tensorflow-object-detection-api) (1.4.1)\n",
      "Requirement already satisfied: termcolor>=1.1.0 in c:\\users\\muneeswari s\\anaconda\\lib\\site-packages (from tensorflow->tensorflow-object-detection-api) (1.1.0)\n",
      "Requirement already satisfied: gast==0.3.3 in c:\\users\\muneeswari s\\anaconda\\lib\\site-packages (from tensorflow->tensorflow-object-detection-api) (0.3.3)\n",
      "Requirement already satisfied: google-pasta>=0.1.8 in c:\\users\\muneeswari s\\anaconda\\lib\\site-packages (from tensorflow->tensorflow-object-detection-api) (0.2.0)\n",
      "Requirement already satisfied: astunparse==1.6.3 in c:\\users\\muneeswari s\\anaconda\\lib\\site-packages (from tensorflow->tensorflow-object-detection-api) (1.6.3)\n",
      "Requirement already satisfied: keras-preprocessing<1.2,>=1.1.1 in c:\\users\\muneeswari s\\anaconda\\lib\\site-packages (from tensorflow->tensorflow-object-detection-api) (1.1.2)\n",
      "Requirement already satisfied: absl-py>=0.7.0 in c:\\users\\muneeswari s\\anaconda\\lib\\site-packages (from tensorflow->tensorflow-object-detection-api) (0.10.0)\n",
      "Requirement already satisfied: tensorboard<3,>=2.3.0 in c:\\users\\muneeswari s\\anaconda\\lib\\site-packages (from tensorflow->tensorflow-object-detection-api) (2.3.0)\n",
      "Requirement already satisfied: h5py<2.11.0,>=2.10.0 in c:\\users\\muneeswari s\\anaconda\\lib\\site-packages (from tensorflow->tensorflow-object-detection-api) (2.10.0)\n",
      "Requirement already satisfied: tensorflow-estimator<2.4.0,>=2.3.0 in c:\\users\\muneeswari s\\anaconda\\lib\\site-packages (from tensorflow->tensorflow-object-detection-api) (2.3.0)\n",
      "Requirement already satisfied: wrapt>=1.11.1 in c:\\users\\muneeswari s\\anaconda\\lib\\site-packages (from tensorflow->tensorflow-object-detection-api) (1.12.1)\n",
      "Requirement already satisfied: grpcio>=1.8.6 in c:\\users\\muneeswari s\\anaconda\\lib\\site-packages (from tensorflow->tensorflow-object-detection-api) (1.32.0rc1)\n",
      "Requirement already satisfied: opt-einsum>=2.3.2 in c:\\users\\muneeswari s\\anaconda\\lib\\site-packages (from tensorflow->tensorflow-object-detection-api) (3.3.0)\n",
      "Requirement already satisfied: tqdm>=4.14 in c:\\users\\muneeswari s\\anaconda\\lib\\site-packages (from twine->tensorflow-object-detection-api) (4.47.0)\n",
      "Requirement already satisfied: pkginfo>=1.4.2 in c:\\users\\muneeswari s\\anaconda\\lib\\site-packages (from twine->tensorflow-object-detection-api) (1.5.0.1)\n",
      "Collecting rfc3986>=1.4.0\n",
      "  Downloading rfc3986-1.4.0-py2.py3-none-any.whl (31 kB)\n",
      "Collecting readme-renderer>=21.0\n",
      "  Downloading readme_renderer-26.0-py2.py3-none-any.whl (15 kB)\n",
      "Requirement already satisfied: importlib-metadata; python_version < \"3.8\" in c:\\users\\muneeswari s\\anaconda\\lib\\site-packages (from twine->tensorflow-object-detection-api) (1.7.0)\n",
      "Collecting requests-toolbelt!=0.9.0,>=0.8.0\n",
      "  Downloading requests_toolbelt-0.9.1-py2.py3-none-any.whl (54 kB)\n",
      "Requirement already satisfied: keyring>=15.1 in c:\\users\\muneeswari s\\anaconda\\lib\\site-packages (from twine->tensorflow-object-detection-api) (21.2.1)\n",
      "Requirement already satisfied: requests>=2.20 in c:\\users\\muneeswari s\\anaconda\\lib\\site-packages (from twine->tensorflow-object-detection-api) (2.24.0)\n",
      "Requirement already satisfied: colorama>=0.4.3 in c:\\users\\muneeswari s\\anaconda\\lib\\site-packages (from twine->tensorflow-object-detection-api) (0.4.3)\n",
      "Requirement already satisfied: ipython in c:\\users\\muneeswari s\\anaconda\\lib\\site-packages (from jupyter-console->jupyter->tensorflow-object-detection-api) (7.16.1)\n",
      "Requirement already satisfied: prompt-toolkit!=3.0.0,!=3.0.1,<3.1.0,>=2.0.0 in c:\\users\\muneeswari s\\anaconda\\lib\\site-packages (from jupyter-console->jupyter->tensorflow-object-detection-api) (3.0.5)\n",
      "Requirement already satisfied: jupyter-client in c:\\users\\muneeswari s\\anaconda\\lib\\site-packages (from jupyter-console->jupyter->tensorflow-object-detection-api) (6.1.5)\n",
      "Requirement already satisfied: pygments in c:\\users\\muneeswari s\\anaconda\\lib\\site-packages (from jupyter-console->jupyter->tensorflow-object-detection-api) (2.6.1)\n",
      "Requirement already satisfied: traitlets>=4.1.0 in c:\\users\\muneeswari s\\anaconda\\lib\\site-packages (from ipykernel->jupyter->tensorflow-object-detection-api) (4.3.3)\n",
      "Requirement already satisfied: tornado>=4.2 in c:\\users\\muneeswari s\\anaconda\\lib\\site-packages (from ipykernel->jupyter->tensorflow-object-detection-api) (6.0.4)\n",
      "Requirement already satisfied: nbformat>=4.2.0 in c:\\users\\muneeswari s\\anaconda\\lib\\site-packages (from ipywidgets->jupyter->tensorflow-object-detection-api) (5.0.7)\n",
      "Requirement already satisfied: widgetsnbextension~=3.5.0 in c:\\users\\muneeswari s\\anaconda\\lib\\site-packages (from ipywidgets->jupyter->tensorflow-object-detection-api) (3.5.1)\n",
      "Requirement already satisfied: pyzmq>=17.1 in c:\\users\\muneeswari s\\anaconda\\lib\\site-packages (from qtconsole->jupyter->tensorflow-object-detection-api) (19.0.1)\n",
      "Requirement already satisfied: qtpy in c:\\users\\muneeswari s\\anaconda\\lib\\site-packages (from qtconsole->jupyter->tensorflow-object-detection-api) (1.9.0)\n",
      "Requirement already satisfied: jupyter-core in c:\\users\\muneeswari s\\anaconda\\lib\\site-packages (from qtconsole->jupyter->tensorflow-object-detection-api) (4.6.3)\n",
      "Requirement already satisfied: ipython-genutils in c:\\users\\muneeswari s\\anaconda\\lib\\site-packages (from qtconsole->jupyter->tensorflow-object-detection-api) (0.2.0)\n",
      "Requirement already satisfied: jinja2>=2.4 in c:\\users\\muneeswari s\\anaconda\\lib\\site-packages (from nbconvert->jupyter->tensorflow-object-detection-api) (2.11.2)\n",
      "Requirement already satisfied: entrypoints>=0.2.2 in c:\\users\\muneeswari s\\anaconda\\lib\\site-packages (from nbconvert->jupyter->tensorflow-object-detection-api) (0.3)\n",
      "Requirement already satisfied: pandocfilters>=1.4.1 in c:\\users\\muneeswari s\\anaconda\\lib\\site-packages (from nbconvert->jupyter->tensorflow-object-detection-api) (1.4.2)\n",
      "Requirement already satisfied: bleach in c:\\users\\muneeswari s\\anaconda\\lib\\site-packages (from nbconvert->jupyter->tensorflow-object-detection-api) (3.1.5)\n",
      "Requirement already satisfied: mistune<2,>=0.8.1 in c:\\users\\muneeswari s\\anaconda\\lib\\site-packages (from nbconvert->jupyter->tensorflow-object-detection-api) (0.8.4)\n",
      "Requirement already satisfied: testpath in c:\\users\\muneeswari s\\anaconda\\lib\\site-packages (from nbconvert->jupyter->tensorflow-object-detection-api) (0.4.4)\n",
      "Requirement already satisfied: defusedxml in c:\\users\\muneeswari s\\anaconda\\lib\\site-packages (from nbconvert->jupyter->tensorflow-object-detection-api) (0.6.0)\n",
      "Requirement already satisfied: prometheus-client in c:\\users\\muneeswari s\\anaconda\\lib\\site-packages (from notebook->jupyter->tensorflow-object-detection-api) (0.8.0)\n",
      "Requirement already satisfied: Send2Trash in c:\\users\\muneeswari s\\anaconda\\lib\\site-packages (from notebook->jupyter->tensorflow-object-detection-api) (1.5.0)\n",
      "Requirement already satisfied: terminado>=0.8.1 in c:\\users\\muneeswari s\\anaconda\\lib\\site-packages (from notebook->jupyter->tensorflow-object-detection-api) (0.8.3)\n",
      "Requirement already satisfied: markdown>=2.6.8 in c:\\users\\muneeswari s\\anaconda\\lib\\site-packages (from tensorboard<3,>=2.3.0->tensorflow->tensorflow-object-detection-api) (3.2.2)\n",
      "Requirement already satisfied: werkzeug>=0.11.15 in c:\\users\\muneeswari s\\anaconda\\lib\\site-packages (from tensorboard<3,>=2.3.0->tensorflow->tensorflow-object-detection-api) (1.0.1)\n",
      "Requirement already satisfied: tensorboard-plugin-wit>=1.6.0 in c:\\users\\muneeswari s\\anaconda\\lib\\site-packages (from tensorboard<3,>=2.3.0->tensorflow->tensorflow-object-detection-api) (1.7.0)\n",
      "Requirement already satisfied: google-auth<2,>=1.6.3 in c:\\users\\muneeswari s\\anaconda\\lib\\site-packages (from tensorboard<3,>=2.3.0->tensorflow->tensorflow-object-detection-api) (1.21.0)\n",
      "Requirement already satisfied: google-auth-oauthlib<0.5,>=0.4.1 in c:\\users\\muneeswari s\\anaconda\\lib\\site-packages (from tensorboard<3,>=2.3.0->tensorflow->tensorflow-object-detection-api) (0.4.1)\n",
      "Requirement already satisfied: docutils>=0.13.1 in c:\\users\\muneeswari s\\anaconda\\lib\\site-packages (from readme-renderer>=21.0->twine->tensorflow-object-detection-api) (0.16)\n",
      "Requirement already satisfied: zipp>=0.5 in c:\\users\\muneeswari s\\anaconda\\lib\\site-packages (from importlib-metadata; python_version < \"3.8\"->twine->tensorflow-object-detection-api) (3.1.0)\n",
      "Requirement already satisfied: pywin32-ctypes!=0.1.0,!=0.1.1; sys_platform == \"win32\" in c:\\users\\muneeswari s\\anaconda\\lib\\site-packages (from keyring>=15.1->twine->tensorflow-object-detection-api) (0.2.0)\n",
      "Requirement already satisfied: idna<3,>=2.5 in c:\\users\\muneeswari s\\anaconda\\lib\\site-packages (from requests>=2.20->twine->tensorflow-object-detection-api) (2.10)\n",
      "Requirement already satisfied: urllib3!=1.25.0,!=1.25.1,<1.26,>=1.21.1 in c:\\users\\muneeswari s\\anaconda\\lib\\site-packages (from requests>=2.20->twine->tensorflow-object-detection-api) (1.25.9)\n",
      "Requirement already satisfied: certifi>=2017.4.17 in c:\\users\\muneeswari s\\anaconda\\lib\\site-packages (from requests>=2.20->twine->tensorflow-object-detection-api) (2020.6.20)\n",
      "Requirement already satisfied: chardet<4,>=3.0.2 in c:\\users\\muneeswari s\\anaconda\\lib\\site-packages (from requests>=2.20->twine->tensorflow-object-detection-api) (3.0.4)\n",
      "Requirement already satisfied: pickleshare in c:\\users\\muneeswari s\\anaconda\\lib\\site-packages (from ipython->jupyter-console->jupyter->tensorflow-object-detection-api) (0.7.5)\n",
      "Requirement already satisfied: jedi>=0.10 in c:\\users\\muneeswari s\\anaconda\\lib\\site-packages (from ipython->jupyter-console->jupyter->tensorflow-object-detection-api) (0.15.2)\n",
      "Requirement already satisfied: backcall in c:\\users\\muneeswari s\\anaconda\\lib\\site-packages (from ipython->jupyter-console->jupyter->tensorflow-object-detection-api) (0.2.0)\n",
      "Requirement already satisfied: decorator in c:\\users\\muneeswari s\\anaconda\\lib\\site-packages (from ipython->jupyter-console->jupyter->tensorflow-object-detection-api) (4.4.2)\n",
      "Requirement already satisfied: wcwidth in c:\\users\\muneeswari s\\anaconda\\lib\\site-packages (from prompt-toolkit!=3.0.0,!=3.0.1,<3.1.0,>=2.0.0->jupyter-console->jupyter->tensorflow-object-detection-api) (0.2.5)\n",
      "Requirement already satisfied: jsonschema!=2.5.0,>=2.4 in c:\\users\\muneeswari s\\anaconda\\lib\\site-packages (from nbformat>=4.2.0->ipywidgets->jupyter->tensorflow-object-detection-api) (3.2.0)\n",
      "Requirement already satisfied: pywin32>=1.0; sys_platform == \"win32\" in c:\\users\\muneeswari s\\anaconda\\lib\\site-packages (from jupyter-core->qtconsole->jupyter->tensorflow-object-detection-api) (227)\n",
      "Requirement already satisfied: MarkupSafe>=0.23 in c:\\users\\muneeswari s\\anaconda\\lib\\site-packages (from jinja2>=2.4->nbconvert->jupyter->tensorflow-object-detection-api) (1.1.1)\n",
      "Requirement already satisfied: packaging in c:\\users\\muneeswari s\\anaconda\\lib\\site-packages (from bleach->nbconvert->jupyter->tensorflow-object-detection-api) (20.4)\n",
      "Requirement already satisfied: webencodings in c:\\users\\muneeswari s\\anaconda\\lib\\site-packages (from bleach->nbconvert->jupyter->tensorflow-object-detection-api) (0.5.1)\n",
      "Requirement already satisfied: pyasn1-modules>=0.2.1 in c:\\users\\muneeswari s\\anaconda\\lib\\site-packages (from google-auth<2,>=1.6.3->tensorboard<3,>=2.3.0->tensorflow->tensorflow-object-detection-api) (0.2.8)\n",
      "Requirement already satisfied: cachetools<5.0,>=2.0.0 in c:\\users\\muneeswari s\\anaconda\\lib\\site-packages (from google-auth<2,>=1.6.3->tensorboard<3,>=2.3.0->tensorflow->tensorflow-object-detection-api) (4.1.1)\n",
      "Requirement already satisfied: rsa<5,>=3.1.4; python_version >= \"3.5\" in c:\\users\\muneeswari s\\anaconda\\lib\\site-packages (from google-auth<2,>=1.6.3->tensorboard<3,>=2.3.0->tensorflow->tensorflow-object-detection-api) (4.6)\n",
      "Requirement already satisfied: requests-oauthlib>=0.7.0 in c:\\users\\muneeswari s\\anaconda\\lib\\site-packages (from google-auth-oauthlib<0.5,>=0.4.1->tensorboard<3,>=2.3.0->tensorflow->tensorflow-object-detection-api) (1.3.0)\n",
      "Requirement already satisfied: parso>=0.5.2 in c:\\users\\muneeswari s\\anaconda\\lib\\site-packages (from jedi>=0.10->ipython->jupyter-console->jupyter->tensorflow-object-detection-api) (0.5.2)\n",
      "Requirement already satisfied: attrs>=17.4.0 in c:\\users\\muneeswari s\\anaconda\\lib\\site-packages (from jsonschema!=2.5.0,>=2.4->nbformat>=4.2.0->ipywidgets->jupyter->tensorflow-object-detection-api) (19.3.0)\n",
      "Requirement already satisfied: pyrsistent>=0.14.0 in c:\\users\\muneeswari s\\anaconda\\lib\\site-packages (from jsonschema!=2.5.0,>=2.4->nbformat>=4.2.0->ipywidgets->jupyter->tensorflow-object-detection-api) (0.16.0)\n",
      "Requirement already satisfied: pyasn1<0.5.0,>=0.4.6 in c:\\users\\muneeswari s\\anaconda\\lib\\site-packages (from pyasn1-modules>=0.2.1->google-auth<2,>=1.6.3->tensorboard<3,>=2.3.0->tensorflow->tensorflow-object-detection-api) (0.4.8)\n",
      "Requirement already satisfied: oauthlib>=3.0.0 in c:\\users\\muneeswari s\\anaconda\\lib\\site-packages (from requests-oauthlib>=0.7.0->google-auth-oauthlib<0.5,>=0.4.1->tensorboard<3,>=2.3.0->tensorflow->tensorflow-object-detection-api) (3.1.0)\n",
      "Building wheels for collected packages: tensorflow-object-detection-api\n",
      "  Building wheel for tensorflow-object-detection-api (setup.py): started\n",
      "  Building wheel for tensorflow-object-detection-api (setup.py): finished with status 'done'\n",
      "  Created wheel for tensorflow-object-detection-api: filename=tensorflow_object_detection_api-0.1.1-py3-none-any.whl size=844519 sha256=7d42c75ca3787201fcfc33bce26491633096fc540a32ba7dbba0b61c5b79cec7\n",
      "  Stored in directory: c:\\users\\muneeswari s\\appdata\\local\\pip\\cache\\wheels\\71\\7e\\a2\\461ab817fbaef68ec9cc60df16d3669d1285f032e4c98179bf\n",
      "Successfully built tensorflow-object-detection-api\n",
      "Installing collected packages: rfc3986, readme-renderer, requests-toolbelt, twine, tensorflow-object-detection-api\n",
      "Successfully installed readme-renderer-26.0 requests-toolbelt-0.9.1 rfc3986-1.4.0 tensorflow-object-detection-api-0.1.1 twine-3.2.0\n"
     ]
    }
   ],
   "source": [
    "!pip install tensorflow-object-detection-api"
   ]
  },
  {
   "cell_type": "code",
   "execution_count": 15,
   "metadata": {},
   "outputs": [
    {
     "ename": "ModuleNotFoundError",
     "evalue": "No module named 'BlurDetection'",
     "output_type": "error",
     "traceback": [
      "\u001b[1;31m---------------------------------------------------------------------------\u001b[0m",
      "\u001b[1;31mModuleNotFoundError\u001b[0m                       Traceback (most recent call last)",
      "\u001b[1;32m<ipython-input-15-1fdc4bd91bf5>\u001b[0m in \u001b[0;36m<module>\u001b[1;34m\u001b[0m\n\u001b[0;32m      2\u001b[0m \u001b[1;32mimport\u001b[0m \u001b[0mcv2\u001b[0m\u001b[1;33m\u001b[0m\u001b[1;33m\u001b[0m\u001b[0m\n\u001b[0;32m      3\u001b[0m \u001b[1;32mimport\u001b[0m \u001b[0mnumpy\u001b[0m\u001b[1;33m\u001b[0m\u001b[1;33m\u001b[0m\u001b[0m\n\u001b[1;32m----> 4\u001b[1;33m \u001b[1;32mimport\u001b[0m \u001b[0mBlurDetection\u001b[0m\u001b[1;33m\u001b[0m\u001b[1;33m\u001b[0m\u001b[0m\n\u001b[0m\u001b[0;32m      5\u001b[0m \u001b[1;33m\u001b[0m\u001b[0m\n\u001b[0;32m      6\u001b[0m \u001b[0mimg_path\u001b[0m \u001b[1;33m=\u001b[0m \u001b[0mraw_input\u001b[0m\u001b[1;33m(\u001b[0m\u001b[1;34m\"Please Enter Image Path: \"\u001b[0m\u001b[1;33m)\u001b[0m\u001b[1;33m\u001b[0m\u001b[1;33m\u001b[0m\u001b[0m\n",
      "\u001b[1;31mModuleNotFoundError\u001b[0m: No module named 'BlurDetection'"
     ]
    }
   ],
   "source": [
    "import os\n",
    "import cv2\n",
    "import numpy\n",
    "import BlurDetection\n",
    "\n",
    "img_path = raw_input(\"Please Enter Image Path: \")\n",
    "assert os.path.exists(img_path), \"img_path does not exists\"\n",
    "img = cv2.imread('D:/IRDE/Samples/v2/v2a frames/frame3.jpg')\n",
    "img_fft, val, blurry = BlurDetection.blur_detector(img)\n",
    "print (\"this image {0} blurry\".format([\"isn't\", \"is\"][blurry]))\n",
    "msk, val = BlurDetection.blur_mask(img)\n",
    "BlurDetection.scripts.display('img', img)\n",
    "BlurDetection.scripts.display('msk', msk)\n",
    "cv2.waitKey(0)"
   ]
  },
  {
   "cell_type": "code",
   "execution_count": null,
   "metadata": {},
   "outputs": [],
   "source": []
  }
 ],
 "metadata": {
  "kernelspec": {
   "display_name": "Python 3",
   "language": "python",
   "name": "python3"
  },
  "language_info": {
   "codemirror_mode": {
    "name": "ipython",
    "version": 3
   },
   "file_extension": ".py",
   "mimetype": "text/x-python",
   "name": "python",
   "nbconvert_exporter": "python",
   "pygments_lexer": "ipython3",
   "version": "3.7.6"
  }
 },
 "nbformat": 4,
 "nbformat_minor": 4
}
